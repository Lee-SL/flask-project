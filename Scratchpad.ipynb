{
 "cells": [
  {
   "cell_type": "code",
   "execution_count": 9,
   "metadata": {},
   "outputs": [],
   "source": [
    "stores = [\n",
    "    {\n",
    "        'name': 'My Store',\n",
    "        'items': [\n",
    "            {\n",
    "                'name': 'Item 1',\n",
    "                'price': 15.99\n",
    "            }\n",
    "        ]\n",
    "    },\n",
    "    {\n",
    "        'name': 'My Store 2',\n",
    "        'items': [\n",
    "            {\n",
    "                'name': 'Item 1',\n",
    "                'price': 15.99\n",
    "            }\n",
    "        ]\n",
    "    }\n",
    "]"
   ]
  },
  {
   "cell_type": "code",
   "execution_count": 11,
   "metadata": {},
   "outputs": [
    {
     "name": "stdout",
     "output_type": "stream",
     "text": [
      "My Store\n",
      "My Store 2\n"
     ]
    }
   ],
   "source": [
    "for store in stores:\n",
    "    print(store['name'])"
   ]
  },
  {
   "cell_type": "code",
   "execution_count": null,
   "metadata": {},
   "outputs": [],
   "source": []
  }
 ],
 "metadata": {
  "kernelspec": {
   "display_name": "Python 3",
   "language": "python",
   "name": "python3"
  },
  "language_info": {
   "codemirror_mode": {
    "name": "ipython",
    "version": 3
   },
   "file_extension": ".py",
   "mimetype": "text/x-python",
   "name": "python",
   "nbconvert_exporter": "python",
   "pygments_lexer": "ipython3",
   "version": "3.6.3"
  }
 },
 "nbformat": 4,
 "nbformat_minor": 2
}
